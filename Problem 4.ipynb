{
 "cells": [
  {
   "cell_type": "code",
   "execution_count": 1,
   "metadata": {
    "collapsed": true
   },
   "outputs": [],
   "source": [
    "import pandas as pd\n",
    "import numpy as np\n",
    "from sklearn.model_selection import KFold\n",
    "from sklearn.linear_model import Ridge\n",
    "from sklearn.linear_model import Lasso\n",
    "from sklearn.utils import resample\n",
    "from sklearn.metrics import accuracy_score\n",
    "import matplotlib.pyplot as plt\n",
    "# pd.set_option('display.max_columns', None)"
   ]
  },
  {
   "cell_type": "code",
   "execution_count": 2,
   "metadata": {
    "collapsed": true
   },
   "outputs": [],
   "source": [
    "dataPath = \"HW3_Data/ecs171.dataset.txt\""
   ]
  },
  {
   "cell_type": "code",
   "execution_count": 3,
   "metadata": {
    "collapsed": true
   },
   "outputs": [],
   "source": [
    "data = pd.read_table(dataPath)"
   ]
  },
  {
   "cell_type": "code",
   "execution_count": 4,
   "metadata": {},
   "outputs": [
    {
     "data": {
      "text/plain": [
       "(194, 4501)"
      ]
     },
     "execution_count": 4,
     "metadata": {},
     "output_type": "execute_result"
    }
   ],
   "source": [
    "data.shape"
   ]
  },
  {
   "cell_type": "code",
   "execution_count": 5,
   "metadata": {},
   "outputs": [
    {
     "data": {
      "text/html": [
       "<div>\n",
       "<style>\n",
       "    .dataframe thead tr:only-child th {\n",
       "        text-align: right;\n",
       "    }\n",
       "\n",
       "    .dataframe thead th {\n",
       "        text-align: left;\n",
       "    }\n",
       "\n",
       "    .dataframe tbody tr th {\n",
       "        vertical-align: top;\n",
       "    }\n",
       "</style>\n",
       "<table border=\"1\" class=\"dataframe\">\n",
       "  <thead>\n",
       "    <tr style=\"text-align: right;\">\n",
       "      <th></th>\n",
       "      <th>ID</th>\n",
       "      <th>Strain</th>\n",
       "      <th>Medium</th>\n",
       "      <th>Stress</th>\n",
       "      <th>GenePerturbed</th>\n",
       "      <th>GrowthRate</th>\n",
       "      <th>b3356</th>\n",
       "      <th>b2922</th>\n",
       "      <th>b2519</th>\n",
       "      <th>b3823</th>\n",
       "      <th>...</th>\n",
       "      <th>b4673</th>\n",
       "      <th>b4684</th>\n",
       "      <th>b4689</th>\n",
       "      <th>b4685</th>\n",
       "      <th>b4683</th>\n",
       "      <th>b4682</th>\n",
       "      <th>b4699</th>\n",
       "      <th>b4698</th>\n",
       "      <th>b4704</th>\n",
       "      <th>b4703</th>\n",
       "    </tr>\n",
       "  </thead>\n",
       "  <tbody>\n",
       "    <tr>\n",
       "      <th>0</th>\n",
       "      <td>T8129</td>\n",
       "      <td>MG1655</td>\n",
       "      <td>MD001</td>\n",
       "      <td>none</td>\n",
       "      <td>oxyR_KO</td>\n",
       "      <td>0.637</td>\n",
       "      <td>0.304790</td>\n",
       "      <td>0.506615</td>\n",
       "      <td>0.289473</td>\n",
       "      <td>0.289473</td>\n",
       "      <td>...</td>\n",
       "      <td>0</td>\n",
       "      <td>0</td>\n",
       "      <td>0</td>\n",
       "      <td>0</td>\n",
       "      <td>0</td>\n",
       "      <td>0</td>\n",
       "      <td>0</td>\n",
       "      <td>0</td>\n",
       "      <td>0</td>\n",
       "      <td>0</td>\n",
       "    </tr>\n",
       "    <tr>\n",
       "      <th>1</th>\n",
       "      <td>T8130</td>\n",
       "      <td>MG1655</td>\n",
       "      <td>MD001</td>\n",
       "      <td>none</td>\n",
       "      <td>oxyR_KO</td>\n",
       "      <td>0.637</td>\n",
       "      <td>0.361095</td>\n",
       "      <td>0.582885</td>\n",
       "      <td>0.259295</td>\n",
       "      <td>0.259295</td>\n",
       "      <td>...</td>\n",
       "      <td>0</td>\n",
       "      <td>0</td>\n",
       "      <td>0</td>\n",
       "      <td>0</td>\n",
       "      <td>0</td>\n",
       "      <td>0</td>\n",
       "      <td>0</td>\n",
       "      <td>0</td>\n",
       "      <td>0</td>\n",
       "      <td>0</td>\n",
       "    </tr>\n",
       "    <tr>\n",
       "      <th>2</th>\n",
       "      <td>T8131</td>\n",
       "      <td>MG1655</td>\n",
       "      <td>MD001</td>\n",
       "      <td>none</td>\n",
       "      <td>oxyR_KO</td>\n",
       "      <td>0.637</td>\n",
       "      <td>0.295920</td>\n",
       "      <td>0.477482</td>\n",
       "      <td>0.304459</td>\n",
       "      <td>0.304459</td>\n",
       "      <td>...</td>\n",
       "      <td>0</td>\n",
       "      <td>0</td>\n",
       "      <td>0</td>\n",
       "      <td>0</td>\n",
       "      <td>0</td>\n",
       "      <td>0</td>\n",
       "      <td>0</td>\n",
       "      <td>0</td>\n",
       "      <td>0</td>\n",
       "      <td>0</td>\n",
       "    </tr>\n",
       "    <tr>\n",
       "      <th>3</th>\n",
       "      <td>T8135</td>\n",
       "      <td>MG1655</td>\n",
       "      <td>MD001</td>\n",
       "      <td>none</td>\n",
       "      <td>soxS_KO</td>\n",
       "      <td>0.724</td>\n",
       "      <td>0.332041</td>\n",
       "      <td>0.554672</td>\n",
       "      <td>0.308533</td>\n",
       "      <td>0.308533</td>\n",
       "      <td>...</td>\n",
       "      <td>0</td>\n",
       "      <td>0</td>\n",
       "      <td>0</td>\n",
       "      <td>0</td>\n",
       "      <td>0</td>\n",
       "      <td>0</td>\n",
       "      <td>0</td>\n",
       "      <td>0</td>\n",
       "      <td>0</td>\n",
       "      <td>0</td>\n",
       "    </tr>\n",
       "    <tr>\n",
       "      <th>4</th>\n",
       "      <td>T8136</td>\n",
       "      <td>MG1655</td>\n",
       "      <td>MD001</td>\n",
       "      <td>none</td>\n",
       "      <td>soxS_KO</td>\n",
       "      <td>0.724</td>\n",
       "      <td>0.323373</td>\n",
       "      <td>0.442617</td>\n",
       "      <td>0.318442</td>\n",
       "      <td>0.318442</td>\n",
       "      <td>...</td>\n",
       "      <td>0</td>\n",
       "      <td>0</td>\n",
       "      <td>0</td>\n",
       "      <td>0</td>\n",
       "      <td>0</td>\n",
       "      <td>0</td>\n",
       "      <td>0</td>\n",
       "      <td>0</td>\n",
       "      <td>0</td>\n",
       "      <td>0</td>\n",
       "    </tr>\n",
       "  </tbody>\n",
       "</table>\n",
       "<p>5 rows × 4501 columns</p>\n",
       "</div>"
      ],
      "text/plain": [
       "      ID  Strain Medium Stress GenePerturbed  GrowthRate     b3356     b2922  \\\n",
       "0  T8129  MG1655  MD001   none       oxyR_KO       0.637  0.304790  0.506615   \n",
       "1  T8130  MG1655  MD001   none       oxyR_KO       0.637  0.361095  0.582885   \n",
       "2  T8131  MG1655  MD001   none       oxyR_KO       0.637  0.295920  0.477482   \n",
       "3  T8135  MG1655  MD001   none       soxS_KO       0.724  0.332041  0.554672   \n",
       "4  T8136  MG1655  MD001   none       soxS_KO       0.724  0.323373  0.442617   \n",
       "\n",
       "      b2519     b3823  ...    b4673  b4684  b4689  b4685  b4683  b4682  b4699  \\\n",
       "0  0.289473  0.289473  ...        0      0      0      0      0      0      0   \n",
       "1  0.259295  0.259295  ...        0      0      0      0      0      0      0   \n",
       "2  0.304459  0.304459  ...        0      0      0      0      0      0      0   \n",
       "3  0.308533  0.308533  ...        0      0      0      0      0      0      0   \n",
       "4  0.318442  0.318442  ...        0      0      0      0      0      0      0   \n",
       "\n",
       "   b4698  b4704  b4703  \n",
       "0      0      0      0  \n",
       "1      0      0      0  \n",
       "2      0      0      0  \n",
       "3      0      0      0  \n",
       "4      0      0      0  \n",
       "\n",
       "[5 rows x 4501 columns]"
      ]
     },
     "execution_count": 5,
     "metadata": {},
     "output_type": "execute_result"
    }
   ],
   "source": [
    "data.head()"
   ]
  },
  {
   "cell_type": "code",
   "execution_count": null,
   "metadata": {
    "collapsed": true
   },
   "outputs": [],
   "source": []
  }
 ],
 "metadata": {
  "kernelspec": {
   "display_name": "Python 3",
   "language": "python",
   "name": "python3"
  },
  "language_info": {
   "codemirror_mode": {
    "name": "ipython",
    "version": 3
   },
   "file_extension": ".py",
   "mimetype": "text/x-python",
   "name": "python",
   "nbconvert_exporter": "python",
   "pygments_lexer": "ipython3",
   "version": "3.6.1"
  }
 },
 "nbformat": 4,
 "nbformat_minor": 2
}

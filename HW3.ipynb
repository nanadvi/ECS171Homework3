{
 "cells": [
  {
   "cell_type": "code",
   "execution_count": 1,
   "metadata": {
    "collapsed": true
   },
   "outputs": [],
   "source": [
    "import pandas as pd\n",
    "import numpy as np\n",
    "from sklearn.model_selection import KFold\n",
    "from sklearn.linear_model import Ridge\n",
    "from sklearn.linear_model import Lasso\n",
    "from sklearn.utils import resample\n",
    "from sklearn.metrics import accuracy_score\n",
    "import matplotlib.pyplot as plt\n",
    "# pd.set_option('display.max_columns', None)"
   ]
  },
  {
   "cell_type": "code",
   "execution_count": 2,
   "metadata": {
    "collapsed": true
   },
   "outputs": [],
   "source": [
    "dataPath = \"HW3_Data/ecs171.dataset.txt\""
   ]
  },
  {
   "cell_type": "code",
   "execution_count": 3,
   "metadata": {
    "collapsed": true
   },
   "outputs": [],
   "source": [
    "data = pd.read_table(dataPath)"
   ]
  },
  {
   "cell_type": "code",
   "execution_count": 4,
   "metadata": {},
   "outputs": [
    {
     "data": {
      "text/plain": [
       "(194, 4501)"
      ]
     },
     "execution_count": 4,
     "metadata": {},
     "output_type": "execute_result"
    }
   ],
   "source": [
    "data.shape"
   ]
  },
  {
   "cell_type": "code",
   "execution_count": 5,
   "metadata": {},
   "outputs": [
    {
     "data": {
      "text/html": [
       "<div>\n",
       "<style>\n",
       "    .dataframe thead tr:only-child th {\n",
       "        text-align: right;\n",
       "    }\n",
       "\n",
       "    .dataframe thead th {\n",
       "        text-align: left;\n",
       "    }\n",
       "\n",
       "    .dataframe tbody tr th {\n",
       "        vertical-align: top;\n",
       "    }\n",
       "</style>\n",
       "<table border=\"1\" class=\"dataframe\">\n",
       "  <thead>\n",
       "    <tr style=\"text-align: right;\">\n",
       "      <th></th>\n",
       "      <th>ID</th>\n",
       "      <th>Strain</th>\n",
       "      <th>Medium</th>\n",
       "      <th>Stress</th>\n",
       "      <th>GenePerturbed</th>\n",
       "      <th>GrowthRate</th>\n",
       "      <th>b3356</th>\n",
       "      <th>b2922</th>\n",
       "      <th>b2519</th>\n",
       "      <th>b3823</th>\n",
       "      <th>...</th>\n",
       "      <th>b4673</th>\n",
       "      <th>b4684</th>\n",
       "      <th>b4689</th>\n",
       "      <th>b4685</th>\n",
       "      <th>b4683</th>\n",
       "      <th>b4682</th>\n",
       "      <th>b4699</th>\n",
       "      <th>b4698</th>\n",
       "      <th>b4704</th>\n",
       "      <th>b4703</th>\n",
       "    </tr>\n",
       "  </thead>\n",
       "  <tbody>\n",
       "    <tr>\n",
       "      <th>0</th>\n",
       "      <td>T8129</td>\n",
       "      <td>MG1655</td>\n",
       "      <td>MD001</td>\n",
       "      <td>none</td>\n",
       "      <td>oxyR_KO</td>\n",
       "      <td>0.637</td>\n",
       "      <td>0.304790</td>\n",
       "      <td>0.506615</td>\n",
       "      <td>0.289473</td>\n",
       "      <td>0.289473</td>\n",
       "      <td>...</td>\n",
       "      <td>0</td>\n",
       "      <td>0</td>\n",
       "      <td>0</td>\n",
       "      <td>0</td>\n",
       "      <td>0</td>\n",
       "      <td>0</td>\n",
       "      <td>0</td>\n",
       "      <td>0</td>\n",
       "      <td>0</td>\n",
       "      <td>0</td>\n",
       "    </tr>\n",
       "    <tr>\n",
       "      <th>1</th>\n",
       "      <td>T8130</td>\n",
       "      <td>MG1655</td>\n",
       "      <td>MD001</td>\n",
       "      <td>none</td>\n",
       "      <td>oxyR_KO</td>\n",
       "      <td>0.637</td>\n",
       "      <td>0.361095</td>\n",
       "      <td>0.582885</td>\n",
       "      <td>0.259295</td>\n",
       "      <td>0.259295</td>\n",
       "      <td>...</td>\n",
       "      <td>0</td>\n",
       "      <td>0</td>\n",
       "      <td>0</td>\n",
       "      <td>0</td>\n",
       "      <td>0</td>\n",
       "      <td>0</td>\n",
       "      <td>0</td>\n",
       "      <td>0</td>\n",
       "      <td>0</td>\n",
       "      <td>0</td>\n",
       "    </tr>\n",
       "    <tr>\n",
       "      <th>2</th>\n",
       "      <td>T8131</td>\n",
       "      <td>MG1655</td>\n",
       "      <td>MD001</td>\n",
       "      <td>none</td>\n",
       "      <td>oxyR_KO</td>\n",
       "      <td>0.637</td>\n",
       "      <td>0.295920</td>\n",
       "      <td>0.477482</td>\n",
       "      <td>0.304459</td>\n",
       "      <td>0.304459</td>\n",
       "      <td>...</td>\n",
       "      <td>0</td>\n",
       "      <td>0</td>\n",
       "      <td>0</td>\n",
       "      <td>0</td>\n",
       "      <td>0</td>\n",
       "      <td>0</td>\n",
       "      <td>0</td>\n",
       "      <td>0</td>\n",
       "      <td>0</td>\n",
       "      <td>0</td>\n",
       "    </tr>\n",
       "    <tr>\n",
       "      <th>3</th>\n",
       "      <td>T8135</td>\n",
       "      <td>MG1655</td>\n",
       "      <td>MD001</td>\n",
       "      <td>none</td>\n",
       "      <td>soxS_KO</td>\n",
       "      <td>0.724</td>\n",
       "      <td>0.332041</td>\n",
       "      <td>0.554672</td>\n",
       "      <td>0.308533</td>\n",
       "      <td>0.308533</td>\n",
       "      <td>...</td>\n",
       "      <td>0</td>\n",
       "      <td>0</td>\n",
       "      <td>0</td>\n",
       "      <td>0</td>\n",
       "      <td>0</td>\n",
       "      <td>0</td>\n",
       "      <td>0</td>\n",
       "      <td>0</td>\n",
       "      <td>0</td>\n",
       "      <td>0</td>\n",
       "    </tr>\n",
       "    <tr>\n",
       "      <th>4</th>\n",
       "      <td>T8136</td>\n",
       "      <td>MG1655</td>\n",
       "      <td>MD001</td>\n",
       "      <td>none</td>\n",
       "      <td>soxS_KO</td>\n",
       "      <td>0.724</td>\n",
       "      <td>0.323373</td>\n",
       "      <td>0.442617</td>\n",
       "      <td>0.318442</td>\n",
       "      <td>0.318442</td>\n",
       "      <td>...</td>\n",
       "      <td>0</td>\n",
       "      <td>0</td>\n",
       "      <td>0</td>\n",
       "      <td>0</td>\n",
       "      <td>0</td>\n",
       "      <td>0</td>\n",
       "      <td>0</td>\n",
       "      <td>0</td>\n",
       "      <td>0</td>\n",
       "      <td>0</td>\n",
       "    </tr>\n",
       "  </tbody>\n",
       "</table>\n",
       "<p>5 rows × 4501 columns</p>\n",
       "</div>"
      ],
      "text/plain": [
       "      ID  Strain Medium Stress GenePerturbed  GrowthRate     b3356     b2922  \\\n",
       "0  T8129  MG1655  MD001   none       oxyR_KO       0.637  0.304790  0.506615   \n",
       "1  T8130  MG1655  MD001   none       oxyR_KO       0.637  0.361095  0.582885   \n",
       "2  T8131  MG1655  MD001   none       oxyR_KO       0.637  0.295920  0.477482   \n",
       "3  T8135  MG1655  MD001   none       soxS_KO       0.724  0.332041  0.554672   \n",
       "4  T8136  MG1655  MD001   none       soxS_KO       0.724  0.323373  0.442617   \n",
       "\n",
       "      b2519     b3823  ...    b4673  b4684  b4689  b4685  b4683  b4682  b4699  \\\n",
       "0  0.289473  0.289473  ...        0      0      0      0      0      0      0   \n",
       "1  0.259295  0.259295  ...        0      0      0      0      0      0      0   \n",
       "2  0.304459  0.304459  ...        0      0      0      0      0      0      0   \n",
       "3  0.308533  0.308533  ...        0      0      0      0      0      0      0   \n",
       "4  0.318442  0.318442  ...        0      0      0      0      0      0      0   \n",
       "\n",
       "   b4698  b4704  b4703  \n",
       "0      0      0      0  \n",
       "1      0      0      0  \n",
       "2      0      0      0  \n",
       "3      0      0      0  \n",
       "4      0      0      0  \n",
       "\n",
       "[5 rows x 4501 columns]"
      ]
     },
     "execution_count": 5,
     "metadata": {},
     "output_type": "execute_result"
    }
   ],
   "source": [
    "data.head()"
   ]
  },
  {
   "cell_type": "markdown",
   "metadata": {},
   "source": [
    "#### Question 1: Create a predictor of the bacterial growth attribute by using only the expression of the genes as attributes. Not all genes are informative for this task, so use a regularized regressiontechnique (lasso, elastic net, ridge) and explain what it does (we have not covered the specifics of each method, so you have to do some reading). Which one is the optimal constrained parameter value (usually denoted by λ)? Report the number of features that have non-zero coefficients and the 10-fold cross-validation generalization error of the technique"
   ]
  },
  {
   "cell_type": "code",
   "execution_count": 6,
   "metadata": {
    "collapsed": true
   },
   "outputs": [],
   "source": [
    "# Lambda values to try\n",
    "_lambda = [0.1, 0.2, 0.3, 0.4, 0.5, 0.6, 0.7, 0.8, 0.9]\n",
    "_lasso = [1e-5, 1e-4, 1e-3, 1e-2, 1e-1, 1]"
   ]
  },
  {
   "cell_type": "code",
   "execution_count": 7,
   "metadata": {
    "collapsed": true
   },
   "outputs": [],
   "source": [
    "y = data[\"GrowthRate\"].values\n",
    "X = data.iloc[:, 6:].values"
   ]
  },
  {
   "cell_type": "code",
   "execution_count": 8,
   "metadata": {},
   "outputs": [
    {
     "name": "stdout",
     "output_type": "stream",
     "text": [
      "(194,)\n",
      "(194, 4495)\n"
     ]
    }
   ],
   "source": [
    "print(y.shape)\n",
    "print(X.shape)"
   ]
  },
  {
   "cell_type": "markdown",
   "metadata": {},
   "source": [
    "#### Ridge regression"
   ]
  },
  {
   "cell_type": "code",
   "execution_count": 9,
   "metadata": {
    "collapsed": true
   },
   "outputs": [],
   "source": [
    "def ridge(X, y, _lambda):\n",
    "    scores = {}\n",
    "    nonzeroFeatures = []\n",
    "    # Split the data in K = 10 folds\n",
    "    kf = KFold(n_splits=10)\n",
    "    indexes = list(kf.split(X))\n",
    "    optimizedLambdaError = 9999\n",
    "    optimizedLambda = 0\n",
    "    clf = Ridge(normalize=True, solver='sag')\n",
    "    # clf = Lasso()\n",
    "    for lam in _lambda:\n",
    "        score = 0\n",
    "        nonzero = 0\n",
    "        errors = []\n",
    "        clf.set_params(alpha=lam)\n",
    "        for train, test in indexes:\n",
    "            Xtrain = X[train]\n",
    "            ytrain = y[train]\n",
    "            Xtest = X[test]\n",
    "            ytest = y[test]\n",
    "            # Train\n",
    "            clf.fit(Xtrain, ytrain)\n",
    "            # Test\n",
    "            y_predict = clf.predict(Xtest)\n",
    "            error = ((ytest - y_predict)**2).sum()\n",
    "            nonzero += np.count_nonzero(clf.coef_)\n",
    "            # weights = clf.coef_\n",
    "            # cols = X.loc[:, z].columns.values.tolist()\n",
    "            # print(\"Number of non-zero features: \" + str(len(nonzero)) + \", alpha: \" + str(lam))\n",
    "            score += np.sum(error)\n",
    "            # errors.append(np.sum(error))\n",
    "        nonzeroFeatures.append(nonzero/10)\n",
    "        scores[lam] = score/10\n",
    "        if(scores[lam] < optimizedLambdaError):\n",
    "            optimizedLambdaError = scores[lam]\n",
    "            optimizedLambda = lam\n",
    "    \n",
    "    ax = plt.gca()\n",
    "    ax.plot(_lambda, nonzeroFeatures)\n",
    "    # ax.set_xscale('log')\n",
    "    # ax.set_xlim(ax.get_xlim()[::-1])  # reverse axis\n",
    "    plt.xlabel('alpha')\n",
    "    plt.ylabel('Number of nonzero features')\n",
    "    plt.title('Number of nonzero features vs alpha ')\n",
    "    plt.axis('tight')\n",
    "    plt.show()\n",
    "    return scores, optimizedLambda\n",
    "\n",
    "def non_zero_coeff(X, y, _lambda):\n",
    "    clf = Ridge(normalize=True, solver='sag')\n",
    "    clf.set_params(alpha=_lambda)\n",
    "    clf.fit(X, y)\n",
    "    nonzero = np.count_nonzero(clf.coef_)\n",
    "    print(\"Number of non-zero features: \" + str(nonzero) + \", alpha: \" + str(_lambda))\n",
    "    return nonzero"
   ]
  },
  {
   "cell_type": "code",
   "execution_count": 102,
   "metadata": {
    "scrolled": false
   },
   "outputs": [
    {
     "name": "stderr",
     "output_type": "stream",
     "text": [
      "/usr/local/lib/python3.6/site-packages/sklearn/linear_model/coordinate_descent.py:484: ConvergenceWarning: Objective did not converge. You might want to increase the number of iterations. Fitting data with very small alpha may cause precision problems.\n",
      "  ConvergenceWarning)\n",
      "/usr/local/lib/python3.6/site-packages/sklearn/linear_model/coordinate_descent.py:484: ConvergenceWarning: Objective did not converge. You might want to increase the number of iterations. Fitting data with very small alpha may cause precision problems.\n",
      "  ConvergenceWarning)\n",
      "/usr/local/lib/python3.6/site-packages/sklearn/linear_model/coordinate_descent.py:484: ConvergenceWarning: Objective did not converge. You might want to increase the number of iterations. Fitting data with very small alpha may cause precision problems.\n",
      "  ConvergenceWarning)\n"
     ]
    },
    {
     "data": {
      "image/png": "[encoded data removed]",
      "text/plain": [
       "<matplotlib.figure.Figure at 0x110c72940>"
      ]
     },
     "metadata": {},
     "output_type": "display_data"
    }
   ],
   "source": [
    "gen_cross_validation_error, optimizedLambda = ridge(X, y, _lasso)"
   ]
  },
  {
   "cell_type": "markdown",
   "metadata": {},
   "source": [
    "#### Generalized cross-validation error"
   ]
  },
  {
   "cell_type": "code",
   "execution_count": 10,
   "metadata": {
    "scrolled": true
   },
   "outputs": [
    {
     "ename": "NameError",
     "evalue": "name 'gen_cross_validation_error' is not defined",
     "output_type": "error",
     "traceback": [
      "\u001b[0;31m---------------------------------------------------------------------------\u001b[0m",
      "\u001b[0;31mNameError\u001b[0m                                 Traceback (most recent call last)",
      "\u001b[0;32m<ipython-input-10-14877ab81b0e>\u001b[0m in \u001b[0;36m<module>\u001b[0;34m()\u001b[0m\n\u001b[0;32m----> 1\u001b[0;31m \u001b[0mgen_cross_validation_error\u001b[0m\u001b[0;34m\u001b[0m\u001b[0m\n\u001b[0m",
      "\u001b[0;31mNameError\u001b[0m: name 'gen_cross_validation_error' is not defined"
     ]
    }
   ],
   "source": [
    "gen_cross_validation_error"
   ]
  },
  {
   "cell_type": "code",
   "execution_count": 98,
   "metadata": {},
   "outputs": [
    {
     "data": {
      "text/plain": [
       "0.8"
      ]
     },
     "execution_count": 98,
     "metadata": {},
     "output_type": "execute_result"
    }
   ],
   "source": [
    "optimizedLambda"
   ]
  },
  {
   "cell_type": "markdown",
   "metadata": {
    "collapsed": true
   },
   "source": [
    "#### The optimal constraint parameter is 0.9. Find the number of features with non-zero coefficients using lambda = 0.9"
   ]
  },
  {
   "cell_type": "code",
   "execution_count": 99,
   "metadata": {},
   "outputs": [
    {
     "name": "stdout",
     "output_type": "stream",
     "text": [
      "Number of non-zero features: 4434, alpha: 0.9\n"
     ]
    },
    {
     "data": {
      "text/plain": [
       "4434"
      ]
     },
     "execution_count": 99,
     "metadata": {},
     "output_type": "execute_result"
    }
   ],
   "source": [
    "non_zero_coeff(X, y, 0.9)"
   ]
  },
  {
   "cell_type": "markdown",
   "metadata": {},
   "source": [
    "#### Note:\n",
    "Ridge regression doesn't remove features as the lambda increases. But Lasso on the other hand reduces the number of features used."
   ]
  },
  {
   "cell_type": "markdown",
   "metadata": {},
   "source": [
    "####  Question 2: Extend your predictor to report the confidence interval of the prediction by using the bootstrapping method. Clearly state the methodology and your assumptions."
   ]
  },
  {
   "cell_type": "code",
   "execution_count": 31,
   "metadata": {
    "collapsed": true
   },
   "outputs": [],
   "source": [
    "def bootstrap():\n",
    "    dataPath = \"HW3_Data/ecs171.dataset.txt\"\n",
    "    data = pd.read_csv(dataPath, header=None)\n",
    "    values = data.values\n",
    "    # configure bootstrap\n",
    "    n_iterations = 1000\n",
    "    n_size = int(len(data) * 0.50)\n",
    "    # run bootstrap\n",
    "    stats = list()\n",
    "    for i in range(2):\n",
    "        # prepare train and test sets\n",
    "        train = resample(values, n_samples=1)\n",
    "        print(train[0])\n",
    "        \n",
    "        # test = np.array([x for x in values if x.tolist() not in train.tolist()])\n",
    "        # fit model\n",
    "        # model = Ridge(normalize=True, solver='sag', alpha=0.9)\n",
    "        # model.fit(train[:,6:], train[:,5])\n",
    "        # evaluate model\n",
    "        # predictions = model.predict(test[:,6:])\n",
    "        # score = accuracy_score(test[:,5], predictions)\n",
    "        # print(score)\n",
    "        # stats.append(score)\n",
    "    # plot scores\n",
    "    # pyplot.hist(stats)\n",
    "    # pyplot.show()\n",
    "    # confidence intervals\n",
    "    # alpha = 0.95\n",
    "    # p = ((1.0-alpha)/2.0) * 100\n",
    "    # lower = max(0.0, numpy.percentile(stats, p))\n",
    "    # p = (alpha+((1.0-alpha)/2.0)) * 100\n",
    "    # upper = min(1.0, numpy.percentile(stats, p))\n",
    "    # print('%.1f confidence interval %.1f%% and %.1f%%' % (alpha*100, lower*100, upper*100))"
   ]
  }
 ],
 "metadata": {
  "kernelspec": {
   "display_name": "Python 3",
   "language": "python",
   "name": "python3"
  },
  "language_info": {
   "codemirror_mode": {
    "name": "ipython",
    "version": 3
   },
   "file_extension": ".py",
   "mimetype": "text/x-python",
   "name": "python",
   "nbconvert_exporter": "python",
   "pygments_lexer": "ipython3",
   "version": "3.6.1"
  }
 },
 "nbformat": 4,
 "nbformat_minor": 2
}
